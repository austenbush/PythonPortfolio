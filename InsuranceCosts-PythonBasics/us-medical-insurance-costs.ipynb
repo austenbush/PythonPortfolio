{
 "cells": [
  {
   "cell_type": "markdown",
   "metadata": {},
   "source": [
    "# U.S. Medical Insurance Costs"
   ]
  },
  {
   "cell_type": "markdown",
   "metadata": {},
   "source": [
    "### Import data and create initial lists\n",
    "Using CSV library for reading CSV data source. List created for each paramter to easily clean for evaluation."
   ]
  },
  {
   "cell_type": "code",
   "execution_count": 8,
   "metadata": {},
   "outputs": [],
   "source": [
    "import csv"
   ]
  },
  {
   "cell_type": "markdown",
   "metadata": {},
   "source": [
    "Initialize lists"
   ]
  },
  {
   "cell_type": "code",
   "execution_count": 9,
   "metadata": {},
   "outputs": [],
   "source": [
    "age = []\n",
    "sex = []\n",
    "bmi = []\n",
    "children = []\n",
    "smoker = []\n",
    "region = []\n",
    "charges = []"
   ]
  },
  {
   "cell_type": "markdown",
   "metadata": {},
   "source": [
    "Load data to lists"
   ]
  },
  {
   "cell_type": "code",
   "execution_count": 10,
   "metadata": {
    "scrolled": true
   },
   "outputs": [],
   "source": [
    "with open('insurance.csv') as ins_data:\n",
    "    ins_dict = csv.DictReader(ins_data)\n",
    "    for i in ins_dict:\n",
    "        age.append(i['age'])\n",
    "        sex.append(i['sex'])\n",
    "        bmi.append(i['bmi'])\n",
    "        children.append(i['children'])\n",
    "        smoker.append(i['smoker'])\n",
    "        region.append(i['region'])\n",
    "        charges.append(i['charges'])"
   ]
  },
  {
   "cell_type": "markdown",
   "metadata": {},
   "source": [
    "#### Adjust lists to flags to use for evaluation\n",
    "1. age: adjusted to integer values\n",
    "2. sex: 1 for male, 0 for female\n",
    "3. bmi: adjusted to float\n",
    "4. children: adjusted to int\n",
    "5. smoker: 1 for smoker, 0 for nonsmoker\n",
    "6. region left as is for grouping for now\n",
    "7. charges: adjusted to float"
   ]
  },
  {
   "cell_type": "code",
   "execution_count": 11,
   "metadata": {
    "scrolled": true
   },
   "outputs": [],
   "source": [
    "age = [int(i) for i in age]\n",
    "sex = [1 if i == 'male' else 0 for i in sex]\n",
    "bmi = [float(i) for i in bmi]\n",
    "children = [int(i) for i in children]\n",
    "smoker = [1 if i == 'yes' else 0 for i in smoker]\n",
    "charges = [float(i) for i in charges]\n",
    "\n",
    "unique_regions = []\n",
    "for i in region:\n",
    "    if i not in unique_regions:\n",
    "        unique_regions.append(i)"
   ]
  },
  {
   "cell_type": "markdown",
   "metadata": {},
   "source": [
    "Defined a function to get a glimpse of the data by region"
   ]
  },
  {
   "cell_type": "code",
   "execution_count": 18,
   "metadata": {},
   "outputs": [],
   "source": [
    "# determine a formula\n",
    "def overall(region_in=''):\n",
    "        total = 0\n",
    "        sum_age = 0\n",
    "        sum_bmi = 0.0\n",
    "        sum_child = 0\n",
    "        smoker_count = 0\n",
    "        male_count = 0\n",
    "        sum_charge = 0.0\n",
    "        for i in range(len(region)):\n",
    "            if region_in in region[i]:\n",
    "                total += 1\n",
    "                sum_age += age[i]\n",
    "                sum_bmi += bmi[i]\n",
    "                sum_child += children[i]\n",
    "                smoker_count += smoker[i]\n",
    "                male_count += sex[i]\n",
    "                sum_charge += charges[i]\n",
    "        if total == 0:\n",
    "            print(\"There are no customers in this region.\")\n",
    "        else:\n",
    "            print(\"Region: {region}\\nTotal Records: {total}\\nAverage Age: {age}\\nAverage BMI: {bmi}\\nAverage Children: {child}\\nSmoker Percent: {smoker}\\nPercent Male: {male}\\nAverage Charge: {charge}\"\n",
    "                  .format(\n",
    "                      region = region_in, \n",
    "                      total = total, \n",
    "                      age = round(sum_age/total,2), \n",
    "                      bmi = round(sum_bmi/total,2), \n",
    "                      child = round(sum_child/total,2),\n",
    "                      smoker = str(round((smoker_count/total)*100,2)) + '%',\n",
    "                      male = str(round((male_count/total)*100,2)) + '%',\n",
    "                      charge = round(sum_charge/total,2)\n",
    "                  ))"
   ]
  },
  {
   "cell_type": "code",
   "execution_count": 19,
   "metadata": {},
   "outputs": [
    {
     "name": "stdout",
     "output_type": "stream",
     "text": [
      "Region: southwest\n",
      "Total Records: 325\n",
      "Average Age: 39.46\n",
      "Average BMI: 30.6\n",
      "Average Children: 1.14\n",
      "Smoker Percent: 17.85%\n",
      "Percent Male: 50.15%\n",
      "Average Charge: 12346.94\n",
      "\n",
      "Region: southeast\n",
      "Total Records: 364\n",
      "Average Age: 38.94\n",
      "Average BMI: 33.36\n",
      "Average Children: 1.05\n",
      "Smoker Percent: 25.0%\n",
      "Percent Male: 51.92%\n",
      "Average Charge: 14735.41\n",
      "\n",
      "Region: northwest\n",
      "Total Records: 325\n",
      "Average Age: 39.2\n",
      "Average BMI: 29.2\n",
      "Average Children: 1.15\n",
      "Smoker Percent: 17.85%\n",
      "Percent Male: 49.54%\n",
      "Average Charge: 12417.58\n",
      "\n",
      "Region: northeast\n",
      "Total Records: 324\n",
      "Average Age: 39.27\n",
      "Average BMI: 29.17\n",
      "Average Children: 1.05\n",
      "Smoker Percent: 20.68%\n",
      "Percent Male: 50.31%\n",
      "Average Charge: 13406.38\n",
      "\n"
     ]
    }
   ],
   "source": [
    "for i in unique_regions:\n",
    "    overall(i)\n",
    "    print(\"\")"
   ]
  },
  {
   "cell_type": "markdown",
   "metadata": {},
   "source": [
    "#### Conclusions for regions:\n",
    "1. Age and number of customers are fairly consistent across regions\n",
    "2. BMI is highest in the southeast, at about 10% higher than other regions\n",
    "3. The majority of smokers are also in the southeast\n",
    "4. BMI & smoker % explain why, on average, the cost for medical insurance is higher in the southeast"
   ]
  },
  {
   "cell_type": "markdown",
   "metadata": {},
   "source": [
    "create test cases to narrow down possibilities and reverse engineer cost formula"
   ]
  },
  {
   "cell_type": "code",
   "execution_count": 32,
   "metadata": {},
   "outputs": [],
   "source": [
    "def reverse_cost(age, age_mult, bmi, bmi_mult, child, child_mult, smoker, smoker_mult, sex, sex_mult):\n",
    "    total_charge = 0.0\n",
    "    total_charge = age*age_mult + bmi*bmi_mult + child*child_mult + smoker*smoker_mult + sex*sex_mult\n",
    "    return total_charge"
   ]
  },
  {
   "cell_type": "code",
   "execution_count": 21,
   "metadata": {},
   "outputs": [],
   "source": [
    "def test_error(charge, predict_charge):\n",
    "    return abs(charge-predict_charge)"
   ]
  },
  {
   "cell_type": "markdown",
   "metadata": {},
   "source": [
    "Run tests cases for potential matching mults on parameters to get the charge. <br>\n",
    "Get results for aggregate error of each mult combination and find the most accurate <br>\n",
    "If best mult is the limit of the range tested, expand range to test a higher limit."
   ]
  },
  {
   "cell_type": "code",
   "execution_count": 30,
   "metadata": {},
   "outputs": [],
   "source": [
    "def test_cases(age, age_mult, bmi, bmi_mult, child, child_mult, smoker, smoker_mult, sex, sex_mult, charges):\n",
    "    smallest_error = float('inf')\n",
    "    test_charge = 0.0\n",
    "    close_age_mult = 0.0\n",
    "    close_bmi_mult = 0.0\n",
    "    close_child_mult = 0.0\n",
    "    close_smoker_mult = 0\n",
    "    close_sex_mult = 0\n",
    "    for t in range(100):\n",
    "        for j in age_mult:\n",
    "                for l in bmi_mult:\n",
    "                        for n in child_mult:\n",
    "                                for p in smoker_mult:\n",
    "                                        for r in sex_mult:\n",
    "                                            tests = 0\n",
    "                                            trial_error = 0.0\n",
    "                                            for i in range(len(age)//10):\n",
    "                                                test_charge = reverse_cost(age[i], j, bmi[i], l, child[i], n, smoker[i], p, sex[i], r)\n",
    "                                                trial_error += test_error(charges[i], test_charge)\n",
    "                                                tests += 1\n",
    "                                            if round(trial_error/tests,2) < smallest_error:\n",
    "                                                smallest_error = round(trial_error/tests,2)\n",
    "                                                close_age_mult = j\n",
    "                                                close_bmi_mult = l\n",
    "                                                close_child_mult = n\n",
    "                                                close_smoker_mult = p\n",
    "                                                close_sex_mult = r\n",
    "    print(\"Smallest Error: {ser}\\nAge Mult: {cam}\\nBMI Mult: {cbm}\\nChild Mult: {ccm}\\nSmoker Mult: {csmoke}\\nMale Mult:{csex}\"\n",
    "          .format(ser=smallest_error, cam=close_age_mult, cbm=close_bmi_mult, ccm=close_child_mult, csmoke=close_smoker_mult, csex=close_sex_mult))"
   ]
  },
  {
   "cell_type": "markdown",
   "metadata": {},
   "source": [
    "Due to my computers limitation, I am keeping the computations here simple. This will only give a general idea of which factors have a positive or negative impact."
   ]
  },
  {
   "cell_type": "code",
   "execution_count": 48,
   "metadata": {},
   "outputs": [],
   "source": [
    "poss_age_mult = [i for i in range(200,251,5)]\n",
    "poss_bmi_mult = [i for i in range(-100,100,1)]\n",
    "poss_child_mult = [i for i in range(300,501,10)]\n",
    "poss_smoker_mult = [i for i in range(10000,50001,1000)]\n",
    "poss_sex_mult = [i for i in range(-700,-499,10)]"
   ]
  },
  {
   "cell_type": "code",
   "execution_count": null,
   "metadata": {},
   "outputs": [],
   "source": [
    "test_cases(age, poss_age_mult, bmi, poss_bmi_mult, children, poss_child_mult, smoker, poss_smoker_mult, sex, poss_sex_mult, charges)"
   ]
  },
  {
   "cell_type": "markdown",
   "metadata": {},
   "source": [
    "#### Conclusion:\n",
    "1. Age has a positive correlation with cost (the older the person, the more expensive insurance is)\n",
    "2. BMI\n",
    "3. Having more children increases the cost of medical insurance\n",
    "4. Smoking has a large upcharge\n",
    "5. Medical insurance is more expensive for women than men"
   ]
  },
  {
   "cell_type": "code",
   "execution_count": null,
   "metadata": {},
   "outputs": [],
   "source": []
  }
 ],
 "metadata": {
  "kernelspec": {
   "display_name": "Python 3 (ipykernel)",
   "language": "python",
   "name": "python3"
  },
  "language_info": {
   "codemirror_mode": {
    "name": "ipython",
    "version": 3
   },
   "file_extension": ".py",
   "mimetype": "text/x-python",
   "name": "python",
   "nbconvert_exporter": "python",
   "pygments_lexer": "ipython3",
   "version": "3.9.13"
  }
 },
 "nbformat": 4,
 "nbformat_minor": 4
}
